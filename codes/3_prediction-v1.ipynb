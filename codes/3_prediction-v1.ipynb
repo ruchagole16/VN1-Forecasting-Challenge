{
 "cells": [
  {
   "cell_type": "markdown",
   "metadata": {},
   "source": [
    "https://phdinds-aim.github.io/time_series_handbook/08_WinningestMethods/lightgbm_m5_forecasting.html\n",
    "\n",
    "https://www.kaggle.com/code/ratan123/m5-forecasting-lightgbm-with-timeseries-splits"
   ]
  },
  {
   "cell_type": "code",
   "execution_count": 1,
   "metadata": {},
   "outputs": [],
   "source": [
    "import pandas as pd\n",
    "import numpy as np"
   ]
  },
  {
   "cell_type": "code",
   "execution_count": 2,
   "metadata": {},
   "outputs": [],
   "source": [
    "train_df = pd.read_csv(\"../data/phase0_train.csv\")\n",
    "test_df = pd.read_csv(\"../data/phase0_test.csv\")\n"
   ]
  },
  {
   "cell_type": "code",
   "execution_count": 3,
   "metadata": {},
   "outputs": [
    {
     "data": {
      "text/html": [
       "<div>\n",
       "<style scoped>\n",
       "    .dataframe tbody tr th:only-of-type {\n",
       "        vertical-align: middle;\n",
       "    }\n",
       "\n",
       "    .dataframe tbody tr th {\n",
       "        vertical-align: top;\n",
       "    }\n",
       "\n",
       "    .dataframe thead th {\n",
       "        text-align: right;\n",
       "    }\n",
       "</style>\n",
       "<table border=\"1\" class=\"dataframe\">\n",
       "  <thead>\n",
       "    <tr style=\"text-align: right;\">\n",
       "      <th></th>\n",
       "      <th>Client</th>\n",
       "      <th>Warehouse</th>\n",
       "      <th>Product</th>\n",
       "      <th>ds</th>\n",
       "      <th>Price</th>\n",
       "      <th>y</th>\n",
       "    </tr>\n",
       "  </thead>\n",
       "  <tbody>\n",
       "    <tr>\n",
       "      <th>0</th>\n",
       "      <td>0</td>\n",
       "      <td>1</td>\n",
       "      <td>367</td>\n",
       "      <td>2020-07-06</td>\n",
       "      <td>10.900001</td>\n",
       "      <td>7.0</td>\n",
       "    </tr>\n",
       "    <tr>\n",
       "      <th>1</th>\n",
       "      <td>0</td>\n",
       "      <td>1</td>\n",
       "      <td>367</td>\n",
       "      <td>2020-07-13</td>\n",
       "      <td>10.900001</td>\n",
       "      <td>7.0</td>\n",
       "    </tr>\n",
       "    <tr>\n",
       "      <th>2</th>\n",
       "      <td>0</td>\n",
       "      <td>1</td>\n",
       "      <td>367</td>\n",
       "      <td>2020-07-20</td>\n",
       "      <td>10.900001</td>\n",
       "      <td>7.0</td>\n",
       "    </tr>\n",
       "    <tr>\n",
       "      <th>3</th>\n",
       "      <td>0</td>\n",
       "      <td>1</td>\n",
       "      <td>367</td>\n",
       "      <td>2020-07-27</td>\n",
       "      <td>15.582857</td>\n",
       "      <td>7.0</td>\n",
       "    </tr>\n",
       "    <tr>\n",
       "      <th>4</th>\n",
       "      <td>0</td>\n",
       "      <td>1</td>\n",
       "      <td>367</td>\n",
       "      <td>2020-08-03</td>\n",
       "      <td>27.289999</td>\n",
       "      <td>7.0</td>\n",
       "    </tr>\n",
       "  </tbody>\n",
       "</table>\n",
       "</div>"
      ],
      "text/plain": [
       "   Client  Warehouse  Product          ds      Price    y\n",
       "0       0          1      367  2020-07-06  10.900001  7.0\n",
       "1       0          1      367  2020-07-13  10.900001  7.0\n",
       "2       0          1      367  2020-07-20  10.900001  7.0\n",
       "3       0          1      367  2020-07-27  15.582857  7.0\n",
       "4       0          1      367  2020-08-03  27.289999  7.0"
      ]
     },
     "execution_count": 3,
     "metadata": {},
     "output_type": "execute_result"
    }
   ],
   "source": [
    "train_df.head()"
   ]
  },
  {
   "cell_type": "code",
   "execution_count": 4,
   "metadata": {},
   "outputs": [
    {
     "data": {
      "text/plain": [
       "(2559010, 6)"
      ]
     },
     "execution_count": 4,
     "metadata": {},
     "output_type": "execute_result"
    }
   ],
   "source": [
    "train_df.shape"
   ]
  },
  {
   "cell_type": "code",
   "execution_count": 5,
   "metadata": {},
   "outputs": [
    {
     "data": {
      "text/plain": [
       "(195689, 6)"
      ]
     },
     "execution_count": 5,
     "metadata": {},
     "output_type": "execute_result"
    }
   ],
   "source": [
    "test_df.shape"
   ]
  },
  {
   "cell_type": "code",
   "execution_count": 6,
   "metadata": {},
   "outputs": [
    {
     "data": {
      "text/html": [
       "<div>\n",
       "<style scoped>\n",
       "    .dataframe tbody tr th:only-of-type {\n",
       "        vertical-align: middle;\n",
       "    }\n",
       "\n",
       "    .dataframe tbody tr th {\n",
       "        vertical-align: top;\n",
       "    }\n",
       "\n",
       "    .dataframe thead th {\n",
       "        text-align: right;\n",
       "    }\n",
       "</style>\n",
       "<table border=\"1\" class=\"dataframe\">\n",
       "  <thead>\n",
       "    <tr style=\"text-align: right;\">\n",
       "      <th></th>\n",
       "      <th>Client</th>\n",
       "      <th>Warehouse</th>\n",
       "      <th>Product</th>\n",
       "      <th>ds</th>\n",
       "      <th>Price</th>\n",
       "      <th>y</th>\n",
       "    </tr>\n",
       "  </thead>\n",
       "  <tbody>\n",
       "    <tr>\n",
       "      <th>0</th>\n",
       "      <td>0</td>\n",
       "      <td>1</td>\n",
       "      <td>367</td>\n",
       "      <td>2023-10-09</td>\n",
       "      <td>51.860000</td>\n",
       "      <td>1.0</td>\n",
       "    </tr>\n",
       "    <tr>\n",
       "      <th>1</th>\n",
       "      <td>0</td>\n",
       "      <td>1</td>\n",
       "      <td>367</td>\n",
       "      <td>2023-10-16</td>\n",
       "      <td>51.860000</td>\n",
       "      <td>1.0</td>\n",
       "    </tr>\n",
       "    <tr>\n",
       "      <th>2</th>\n",
       "      <td>0</td>\n",
       "      <td>1</td>\n",
       "      <td>367</td>\n",
       "      <td>2023-10-23</td>\n",
       "      <td>51.860000</td>\n",
       "      <td>1.0</td>\n",
       "    </tr>\n",
       "    <tr>\n",
       "      <th>3</th>\n",
       "      <td>0</td>\n",
       "      <td>1</td>\n",
       "      <td>367</td>\n",
       "      <td>2023-10-30</td>\n",
       "      <td>51.230000</td>\n",
       "      <td>2.0</td>\n",
       "    </tr>\n",
       "    <tr>\n",
       "      <th>4</th>\n",
       "      <td>0</td>\n",
       "      <td>1</td>\n",
       "      <td>367</td>\n",
       "      <td>2023-11-06</td>\n",
       "      <td>51.230000</td>\n",
       "      <td>1.0</td>\n",
       "    </tr>\n",
       "    <tr>\n",
       "      <th>...</th>\n",
       "      <td>...</td>\n",
       "      <td>...</td>\n",
       "      <td>...</td>\n",
       "      <td>...</td>\n",
       "      <td>...</td>\n",
       "      <td>...</td>\n",
       "    </tr>\n",
       "    <tr>\n",
       "      <th>195684</th>\n",
       "      <td>46</td>\n",
       "      <td>318</td>\n",
       "      <td>14294</td>\n",
       "      <td>2023-12-04</td>\n",
       "      <td>NaN</td>\n",
       "      <td>0.0</td>\n",
       "    </tr>\n",
       "    <tr>\n",
       "      <th>195685</th>\n",
       "      <td>46</td>\n",
       "      <td>318</td>\n",
       "      <td>14294</td>\n",
       "      <td>2023-12-11</td>\n",
       "      <td>46.990000</td>\n",
       "      <td>1.0</td>\n",
       "    </tr>\n",
       "    <tr>\n",
       "      <th>195686</th>\n",
       "      <td>46</td>\n",
       "      <td>318</td>\n",
       "      <td>14294</td>\n",
       "      <td>2023-12-18</td>\n",
       "      <td>46.990000</td>\n",
       "      <td>1.0</td>\n",
       "    </tr>\n",
       "    <tr>\n",
       "      <th>195687</th>\n",
       "      <td>46</td>\n",
       "      <td>318</td>\n",
       "      <td>14294</td>\n",
       "      <td>2023-12-25</td>\n",
       "      <td>39.190000</td>\n",
       "      <td>1.0</td>\n",
       "    </tr>\n",
       "    <tr>\n",
       "      <th>195688</th>\n",
       "      <td>46</td>\n",
       "      <td>318</td>\n",
       "      <td>14294</td>\n",
       "      <td>2024-01-01</td>\n",
       "      <td>45.423336</td>\n",
       "      <td>3.0</td>\n",
       "    </tr>\n",
       "  </tbody>\n",
       "</table>\n",
       "<p>195689 rows × 6 columns</p>\n",
       "</div>"
      ],
      "text/plain": [
       "        Client  Warehouse  Product          ds      Price    y\n",
       "0            0          1      367  2023-10-09  51.860000  1.0\n",
       "1            0          1      367  2023-10-16  51.860000  1.0\n",
       "2            0          1      367  2023-10-23  51.860000  1.0\n",
       "3            0          1      367  2023-10-30  51.230000  2.0\n",
       "4            0          1      367  2023-11-06  51.230000  1.0\n",
       "...        ...        ...      ...         ...        ...  ...\n",
       "195684      46        318    14294  2023-12-04        NaN  0.0\n",
       "195685      46        318    14294  2023-12-11  46.990000  1.0\n",
       "195686      46        318    14294  2023-12-18  46.990000  1.0\n",
       "195687      46        318    14294  2023-12-25  39.190000  1.0\n",
       "195688      46        318    14294  2024-01-01  45.423336  3.0\n",
       "\n",
       "[195689 rows x 6 columns]"
      ]
     },
     "execution_count": 6,
     "metadata": {},
     "output_type": "execute_result"
    }
   ],
   "source": [
    "test_df"
   ]
  },
  {
   "cell_type": "code",
   "execution_count": 7,
   "metadata": {},
   "outputs": [],
   "source": [
    "df = pd.concat([train_df, test_df])"
   ]
  },
  {
   "cell_type": "code",
   "execution_count": 8,
   "metadata": {},
   "outputs": [],
   "source": [
    "df = df.reset_index(drop=True)"
   ]
  },
  {
   "cell_type": "code",
   "execution_count": 9,
   "metadata": {},
   "outputs": [],
   "source": [
    "df = df.sort_values(by  = ['Client', 'Warehouse', 'Product', 'ds'])"
   ]
  },
  {
   "cell_type": "code",
   "execution_count": 10,
   "metadata": {},
   "outputs": [
    {
     "data": {
      "text/html": [
       "<div>\n",
       "<style scoped>\n",
       "    .dataframe tbody tr th:only-of-type {\n",
       "        vertical-align: middle;\n",
       "    }\n",
       "\n",
       "    .dataframe tbody tr th {\n",
       "        vertical-align: top;\n",
       "    }\n",
       "\n",
       "    .dataframe thead th {\n",
       "        text-align: right;\n",
       "    }\n",
       "</style>\n",
       "<table border=\"1\" class=\"dataframe\">\n",
       "  <thead>\n",
       "    <tr style=\"text-align: right;\">\n",
       "      <th></th>\n",
       "      <th>Client</th>\n",
       "      <th>Warehouse</th>\n",
       "      <th>Product</th>\n",
       "      <th>ds</th>\n",
       "      <th>Price</th>\n",
       "      <th>y</th>\n",
       "    </tr>\n",
       "  </thead>\n",
       "  <tbody>\n",
       "    <tr>\n",
       "      <th>0</th>\n",
       "      <td>0</td>\n",
       "      <td>1</td>\n",
       "      <td>367</td>\n",
       "      <td>2020-07-06</td>\n",
       "      <td>10.900001</td>\n",
       "      <td>7.0</td>\n",
       "    </tr>\n",
       "    <tr>\n",
       "      <th>1</th>\n",
       "      <td>0</td>\n",
       "      <td>1</td>\n",
       "      <td>367</td>\n",
       "      <td>2020-07-13</td>\n",
       "      <td>10.900001</td>\n",
       "      <td>7.0</td>\n",
       "    </tr>\n",
       "    <tr>\n",
       "      <th>2</th>\n",
       "      <td>0</td>\n",
       "      <td>1</td>\n",
       "      <td>367</td>\n",
       "      <td>2020-07-20</td>\n",
       "      <td>10.900001</td>\n",
       "      <td>7.0</td>\n",
       "    </tr>\n",
       "    <tr>\n",
       "      <th>3</th>\n",
       "      <td>0</td>\n",
       "      <td>1</td>\n",
       "      <td>367</td>\n",
       "      <td>2020-07-27</td>\n",
       "      <td>15.582857</td>\n",
       "      <td>7.0</td>\n",
       "    </tr>\n",
       "    <tr>\n",
       "      <th>4</th>\n",
       "      <td>0</td>\n",
       "      <td>1</td>\n",
       "      <td>367</td>\n",
       "      <td>2020-08-03</td>\n",
       "      <td>27.289999</td>\n",
       "      <td>7.0</td>\n",
       "    </tr>\n",
       "  </tbody>\n",
       "</table>\n",
       "</div>"
      ],
      "text/plain": [
       "   Client  Warehouse  Product          ds      Price    y\n",
       "0       0          1      367  2020-07-06  10.900001  7.0\n",
       "1       0          1      367  2020-07-13  10.900001  7.0\n",
       "2       0          1      367  2020-07-20  10.900001  7.0\n",
       "3       0          1      367  2020-07-27  15.582857  7.0\n",
       "4       0          1      367  2020-08-03  27.289999  7.0"
      ]
     },
     "execution_count": 10,
     "metadata": {},
     "output_type": "execute_result"
    }
   ],
   "source": [
    "df.head()"
   ]
  },
  {
   "cell_type": "code",
   "execution_count": 11,
   "metadata": {},
   "outputs": [
    {
     "data": {
      "text/html": [
       "<div>\n",
       "<style scoped>\n",
       "    .dataframe tbody tr th:only-of-type {\n",
       "        vertical-align: middle;\n",
       "    }\n",
       "\n",
       "    .dataframe tbody tr th {\n",
       "        vertical-align: top;\n",
       "    }\n",
       "\n",
       "    .dataframe thead th {\n",
       "        text-align: right;\n",
       "    }\n",
       "</style>\n",
       "<table border=\"1\" class=\"dataframe\">\n",
       "  <thead>\n",
       "    <tr style=\"text-align: right;\">\n",
       "      <th></th>\n",
       "      <th>Client</th>\n",
       "      <th>Warehouse</th>\n",
       "      <th>Product</th>\n",
       "      <th>ds</th>\n",
       "      <th>Price</th>\n",
       "      <th>y</th>\n",
       "    </tr>\n",
       "  </thead>\n",
       "  <tbody>\n",
       "    <tr>\n",
       "      <th>195684</th>\n",
       "      <td>46</td>\n",
       "      <td>318</td>\n",
       "      <td>14294</td>\n",
       "      <td>2023-12-04</td>\n",
       "      <td>NaN</td>\n",
       "      <td>0.0</td>\n",
       "    </tr>\n",
       "    <tr>\n",
       "      <th>195685</th>\n",
       "      <td>46</td>\n",
       "      <td>318</td>\n",
       "      <td>14294</td>\n",
       "      <td>2023-12-11</td>\n",
       "      <td>46.990000</td>\n",
       "      <td>1.0</td>\n",
       "    </tr>\n",
       "    <tr>\n",
       "      <th>195686</th>\n",
       "      <td>46</td>\n",
       "      <td>318</td>\n",
       "      <td>14294</td>\n",
       "      <td>2023-12-18</td>\n",
       "      <td>46.990000</td>\n",
       "      <td>1.0</td>\n",
       "    </tr>\n",
       "    <tr>\n",
       "      <th>195687</th>\n",
       "      <td>46</td>\n",
       "      <td>318</td>\n",
       "      <td>14294</td>\n",
       "      <td>2023-12-25</td>\n",
       "      <td>39.190000</td>\n",
       "      <td>1.0</td>\n",
       "    </tr>\n",
       "    <tr>\n",
       "      <th>195688</th>\n",
       "      <td>46</td>\n",
       "      <td>318</td>\n",
       "      <td>14294</td>\n",
       "      <td>2024-01-01</td>\n",
       "      <td>45.423336</td>\n",
       "      <td>3.0</td>\n",
       "    </tr>\n",
       "  </tbody>\n",
       "</table>\n",
       "</div>"
      ],
      "text/plain": [
       "        Client  Warehouse  Product          ds      Price    y\n",
       "195684      46        318    14294  2023-12-04        NaN  0.0\n",
       "195685      46        318    14294  2023-12-11  46.990000  1.0\n",
       "195686      46        318    14294  2023-12-18  46.990000  1.0\n",
       "195687      46        318    14294  2023-12-25  39.190000  1.0\n",
       "195688      46        318    14294  2024-01-01  45.423336  3.0"
      ]
     },
     "execution_count": 11,
     "metadata": {},
     "output_type": "execute_result"
    }
   ],
   "source": [
    "test_df.tail()"
   ]
  },
  {
   "cell_type": "code",
   "execution_count": 12,
   "metadata": {},
   "outputs": [
    {
     "data": {
      "text/html": [
       "<div>\n",
       "<style scoped>\n",
       "    .dataframe tbody tr th:only-of-type {\n",
       "        vertical-align: middle;\n",
       "    }\n",
       "\n",
       "    .dataframe tbody tr th {\n",
       "        vertical-align: top;\n",
       "    }\n",
       "\n",
       "    .dataframe thead th {\n",
       "        text-align: right;\n",
       "    }\n",
       "</style>\n",
       "<table border=\"1\" class=\"dataframe\">\n",
       "  <thead>\n",
       "    <tr style=\"text-align: right;\">\n",
       "      <th></th>\n",
       "      <th>Client</th>\n",
       "      <th>Warehouse</th>\n",
       "      <th>Product</th>\n",
       "      <th>ds</th>\n",
       "      <th>Price</th>\n",
       "      <th>y</th>\n",
       "    </tr>\n",
       "  </thead>\n",
       "  <tbody>\n",
       "    <tr>\n",
       "      <th>2754694</th>\n",
       "      <td>46</td>\n",
       "      <td>318</td>\n",
       "      <td>14294</td>\n",
       "      <td>2023-12-04</td>\n",
       "      <td>NaN</td>\n",
       "      <td>0.0</td>\n",
       "    </tr>\n",
       "    <tr>\n",
       "      <th>2754695</th>\n",
       "      <td>46</td>\n",
       "      <td>318</td>\n",
       "      <td>14294</td>\n",
       "      <td>2023-12-11</td>\n",
       "      <td>46.990000</td>\n",
       "      <td>1.0</td>\n",
       "    </tr>\n",
       "    <tr>\n",
       "      <th>2754696</th>\n",
       "      <td>46</td>\n",
       "      <td>318</td>\n",
       "      <td>14294</td>\n",
       "      <td>2023-12-18</td>\n",
       "      <td>46.990000</td>\n",
       "      <td>1.0</td>\n",
       "    </tr>\n",
       "    <tr>\n",
       "      <th>2754697</th>\n",
       "      <td>46</td>\n",
       "      <td>318</td>\n",
       "      <td>14294</td>\n",
       "      <td>2023-12-25</td>\n",
       "      <td>39.190000</td>\n",
       "      <td>1.0</td>\n",
       "    </tr>\n",
       "    <tr>\n",
       "      <th>2754698</th>\n",
       "      <td>46</td>\n",
       "      <td>318</td>\n",
       "      <td>14294</td>\n",
       "      <td>2024-01-01</td>\n",
       "      <td>45.423336</td>\n",
       "      <td>3.0</td>\n",
       "    </tr>\n",
       "  </tbody>\n",
       "</table>\n",
       "</div>"
      ],
      "text/plain": [
       "         Client  Warehouse  Product          ds      Price    y\n",
       "2754694      46        318    14294  2023-12-04        NaN  0.0\n",
       "2754695      46        318    14294  2023-12-11  46.990000  1.0\n",
       "2754696      46        318    14294  2023-12-18  46.990000  1.0\n",
       "2754697      46        318    14294  2023-12-25  39.190000  1.0\n",
       "2754698      46        318    14294  2024-01-01  45.423336  3.0"
      ]
     },
     "execution_count": 12,
     "metadata": {},
     "output_type": "execute_result"
    }
   ],
   "source": [
    "df.tail()"
   ]
  },
  {
   "cell_type": "code",
   "execution_count": 13,
   "metadata": {},
   "outputs": [],
   "source": [
    "cat_cols = ['Client', 'Warehouse', 'Product']\n",
    "for col in cat_cols:\n",
    "    df[col] = df[col].astype('category')"
   ]
  },
  {
   "cell_type": "code",
   "execution_count": 14,
   "metadata": {},
   "outputs": [
    {
     "name": "stdout",
     "output_type": "stream",
     "text": [
      "<class 'pandas.core.frame.DataFrame'>\n",
      "Index: 2754699 entries, 0 to 2754698\n",
      "Data columns (total 6 columns):\n",
      " #   Column     Dtype   \n",
      "---  ------     -----   \n",
      " 0   Client     category\n",
      " 1   Warehouse  category\n",
      " 2   Product    category\n",
      " 3   ds         object  \n",
      " 4   Price      float64 \n",
      " 5   y          float64 \n",
      "dtypes: category(3), float64(2), object(1)\n",
      "memory usage: 97.6+ MB\n"
     ]
    }
   ],
   "source": [
    "df.info()"
   ]
  },
  {
   "cell_type": "code",
   "execution_count": null,
   "metadata": {},
   "outputs": [],
   "source": [
    "def feature_creation(data, prediction_horizon = 13):\n",
    "    id_cols = ['Client', 'Warehouse', 'Product']\n",
    "\n",
    "    data[\"year\"] = data[\"ds\"].dt.year\n",
    "    data[\"month\"] = data[\"ds\"].dt.month\n",
    "    data[\"week\"] = data[\"ds\"].dt.isocalendar().week\n",
    "    data[\"day\"] = data[\"ds\"].dt.day\n",
    "    data[\"day_of_week\"] = data[\"ds\"].dt.weekday\n",
    "    data[\"is_weekend\"] = (data[\"day_of_week\"] >= 5).astype(int)  # 1 if Sat/Sun, else 0\n",
    "\n",
    "    for week in range(prediction_horizon, prediction_horizon+10):#[13,14,15,16,17,18,19]:\n",
    "        data[f'sales_lag_{week}'] = data.groupby(id_cols, observed=True)['y'].transform(lambda x: x.shift(week))\n",
    "    \n",
    "    for week in range(1,14):\n",
    "        data[f'price_lag_{week}'] = data.groupby(id_cols, observed=True)['Price'].transform(lambda x: x.shift(week))\n",
    "        data[f'price_rolling_mean_{week}'] = data.groupby(id_cols, observed=True)['Price'].transform(lambda x: x.rolling(week).mean())\n",
    "        data[f'price_rolling_std_{week}'] = data.groupby(id_cols, observed=True)['Price'].transform(lambda x: x.rolling(week).std())\n",
    "    \n",
    "    \n",
    "    for rolling_window in [13,20,30]:\n",
    "        data[f'sales_rolling_mean_{rolling_window}'] = data.groupby(id_cols, observed=True)['y'].transform(lambda x: x.shift(prediction_horizon).rolling(rolling_window).mean())\n",
    "        data[f'sales_rolling_std_{rolling_window}'] = data.groupby(id_cols, observed=True)['y'].transform(lambda x: x.shift(prediction_horizon).rolling(rolling_window).std())\n",
    "\n",
    "    return data    \n"
   ]
  },
  {
   "cell_type": "code",
   "execution_count": 19,
   "metadata": {},
   "outputs": [],
   "source": [
    "data = feature_creation(df, prediction_horizon=1)"
   ]
  },
  {
   "cell_type": "code",
   "execution_count": 20,
   "metadata": {},
   "outputs": [
    {
     "data": {
      "text/plain": [
       "(2754699, 61)"
      ]
     },
     "execution_count": 20,
     "metadata": {},
     "output_type": "execute_result"
    }
   ],
   "source": [
    "data.shape"
   ]
  },
  {
   "cell_type": "code",
   "execution_count": 21,
   "metadata": {},
   "outputs": [],
   "source": [
    "import gc"
   ]
  },
  {
   "cell_type": "code",
   "execution_count": 22,
   "metadata": {},
   "outputs": [
    {
     "data": {
      "text/plain": [
       "0"
      ]
     },
     "execution_count": 22,
     "metadata": {},
     "output_type": "execute_result"
    }
   ],
   "source": [
    "gc.collect()"
   ]
  },
  {
   "cell_type": "code",
   "execution_count": 23,
   "metadata": {},
   "outputs": [],
   "source": [
    "def reduce_mem_usage(df, verbose=True):\n",
    "    numerics = ['int16', 'int32', 'int64', 'float16', 'float32', 'float64']\n",
    "    start_mem = df.memory_usage().sum() / 1024**2    \n",
    "    for col in df.columns:\n",
    "        col_type = df[col].dtypes\n",
    "        if col_type in numerics:\n",
    "            c_min = df[col].min()\n",
    "            c_max = df[col].max()\n",
    "            if str(col_type)[:3] == 'int':\n",
    "                if c_min > np.iinfo(np.int8).min and c_max < np.iinfo(np.int8).max:\n",
    "                    df[col] = df[col].astype(np.int8)\n",
    "                elif c_min > np.iinfo(np.int16).min and c_max < np.iinfo(np.int16).max:\n",
    "                    df[col] = df[col].astype(np.int16)\n",
    "                elif c_min > np.iinfo(np.int32).min and c_max < np.iinfo(np.int32).max:\n",
    "                    df[col] = df[col].astype(np.int32)\n",
    "                elif c_min > np.iinfo(np.int64).min and c_max < np.iinfo(np.int64).max:\n",
    "                    df[col] = df[col].astype(np.int64)  \n",
    "            else:\n",
    "                if c_min > np.finfo(np.float16).min and c_max < np.finfo(np.float16).max:\n",
    "                    df[col] = df[col].astype(np.float16)\n",
    "                elif c_min > np.finfo(np.float32).min and c_max < np.finfo(np.float32).max:\n",
    "                    df[col] = df[col].astype(np.float32)\n",
    "                else:\n",
    "                    df[col] = df[col].astype(np.float64)    \n",
    "    end_mem = df.memory_usage().sum() / 1024**2\n",
    "    if verbose: print('Mem. usage decreased to {:5.2f} Mb ({:.1f}% reduction)'.format(end_mem, 100 * (start_mem - end_mem) / start_mem))\n",
    "    return df\n"
   ]
  },
  {
   "cell_type": "code",
   "execution_count": 24,
   "metadata": {},
   "outputs": [],
   "source": [
    "# data = reduce_mem_usage(data)"
   ]
  },
  {
   "cell_type": "code",
   "execution_count": 25,
   "metadata": {},
   "outputs": [
    {
     "data": {
      "text/html": [
       "<div>\n",
       "<style scoped>\n",
       "    .dataframe tbody tr th:only-of-type {\n",
       "        vertical-align: middle;\n",
       "    }\n",
       "\n",
       "    .dataframe tbody tr th {\n",
       "        vertical-align: top;\n",
       "    }\n",
       "\n",
       "    .dataframe thead th {\n",
       "        text-align: right;\n",
       "    }\n",
       "</style>\n",
       "<table border=\"1\" class=\"dataframe\">\n",
       "  <thead>\n",
       "    <tr style=\"text-align: right;\">\n",
       "      <th></th>\n",
       "      <th>Client</th>\n",
       "      <th>Warehouse</th>\n",
       "      <th>Product</th>\n",
       "      <th>ds</th>\n",
       "      <th>Price</th>\n",
       "      <th>y</th>\n",
       "      <th>sales_lag_1</th>\n",
       "      <th>sales_lag_2</th>\n",
       "      <th>sales_lag_3</th>\n",
       "      <th>sales_lag_4</th>\n",
       "      <th>...</th>\n",
       "      <th>price_rolling_std_12</th>\n",
       "      <th>price_lag_13</th>\n",
       "      <th>price_rolling_mean_13</th>\n",
       "      <th>price_rolling_std_13</th>\n",
       "      <th>sales_rolling_mean_13</th>\n",
       "      <th>sales_rolling_std_13</th>\n",
       "      <th>sales_rolling_mean_20</th>\n",
       "      <th>sales_rolling_std_20</th>\n",
       "      <th>sales_rolling_mean_30</th>\n",
       "      <th>sales_rolling_std_30</th>\n",
       "    </tr>\n",
       "  </thead>\n",
       "  <tbody>\n",
       "    <tr>\n",
       "      <th>0</th>\n",
       "      <td>0</td>\n",
       "      <td>1</td>\n",
       "      <td>367</td>\n",
       "      <td>2020-07-06</td>\n",
       "      <td>10.900001</td>\n",
       "      <td>7.0</td>\n",
       "      <td>NaN</td>\n",
       "      <td>NaN</td>\n",
       "      <td>NaN</td>\n",
       "      <td>NaN</td>\n",
       "      <td>...</td>\n",
       "      <td>NaN</td>\n",
       "      <td>NaN</td>\n",
       "      <td>NaN</td>\n",
       "      <td>NaN</td>\n",
       "      <td>NaN</td>\n",
       "      <td>NaN</td>\n",
       "      <td>NaN</td>\n",
       "      <td>NaN</td>\n",
       "      <td>NaN</td>\n",
       "      <td>NaN</td>\n",
       "    </tr>\n",
       "    <tr>\n",
       "      <th>1</th>\n",
       "      <td>0</td>\n",
       "      <td>1</td>\n",
       "      <td>367</td>\n",
       "      <td>2020-07-13</td>\n",
       "      <td>10.900001</td>\n",
       "      <td>7.0</td>\n",
       "      <td>7.0</td>\n",
       "      <td>NaN</td>\n",
       "      <td>NaN</td>\n",
       "      <td>NaN</td>\n",
       "      <td>...</td>\n",
       "      <td>NaN</td>\n",
       "      <td>NaN</td>\n",
       "      <td>NaN</td>\n",
       "      <td>NaN</td>\n",
       "      <td>NaN</td>\n",
       "      <td>NaN</td>\n",
       "      <td>NaN</td>\n",
       "      <td>NaN</td>\n",
       "      <td>NaN</td>\n",
       "      <td>NaN</td>\n",
       "    </tr>\n",
       "    <tr>\n",
       "      <th>2</th>\n",
       "      <td>0</td>\n",
       "      <td>1</td>\n",
       "      <td>367</td>\n",
       "      <td>2020-07-20</td>\n",
       "      <td>10.900001</td>\n",
       "      <td>7.0</td>\n",
       "      <td>7.0</td>\n",
       "      <td>7.0</td>\n",
       "      <td>NaN</td>\n",
       "      <td>NaN</td>\n",
       "      <td>...</td>\n",
       "      <td>NaN</td>\n",
       "      <td>NaN</td>\n",
       "      <td>NaN</td>\n",
       "      <td>NaN</td>\n",
       "      <td>NaN</td>\n",
       "      <td>NaN</td>\n",
       "      <td>NaN</td>\n",
       "      <td>NaN</td>\n",
       "      <td>NaN</td>\n",
       "      <td>NaN</td>\n",
       "    </tr>\n",
       "    <tr>\n",
       "      <th>3</th>\n",
       "      <td>0</td>\n",
       "      <td>1</td>\n",
       "      <td>367</td>\n",
       "      <td>2020-07-27</td>\n",
       "      <td>15.582857</td>\n",
       "      <td>7.0</td>\n",
       "      <td>7.0</td>\n",
       "      <td>7.0</td>\n",
       "      <td>7.0</td>\n",
       "      <td>NaN</td>\n",
       "      <td>...</td>\n",
       "      <td>NaN</td>\n",
       "      <td>NaN</td>\n",
       "      <td>NaN</td>\n",
       "      <td>NaN</td>\n",
       "      <td>NaN</td>\n",
       "      <td>NaN</td>\n",
       "      <td>NaN</td>\n",
       "      <td>NaN</td>\n",
       "      <td>NaN</td>\n",
       "      <td>NaN</td>\n",
       "    </tr>\n",
       "    <tr>\n",
       "      <th>4</th>\n",
       "      <td>0</td>\n",
       "      <td>1</td>\n",
       "      <td>367</td>\n",
       "      <td>2020-08-03</td>\n",
       "      <td>27.289999</td>\n",
       "      <td>7.0</td>\n",
       "      <td>7.0</td>\n",
       "      <td>7.0</td>\n",
       "      <td>7.0</td>\n",
       "      <td>7.0</td>\n",
       "      <td>...</td>\n",
       "      <td>NaN</td>\n",
       "      <td>NaN</td>\n",
       "      <td>NaN</td>\n",
       "      <td>NaN</td>\n",
       "      <td>NaN</td>\n",
       "      <td>NaN</td>\n",
       "      <td>NaN</td>\n",
       "      <td>NaN</td>\n",
       "      <td>NaN</td>\n",
       "      <td>NaN</td>\n",
       "    </tr>\n",
       "    <tr>\n",
       "      <th>...</th>\n",
       "      <td>...</td>\n",
       "      <td>...</td>\n",
       "      <td>...</td>\n",
       "      <td>...</td>\n",
       "      <td>...</td>\n",
       "      <td>...</td>\n",
       "      <td>...</td>\n",
       "      <td>...</td>\n",
       "      <td>...</td>\n",
       "      <td>...</td>\n",
       "      <td>...</td>\n",
       "      <td>...</td>\n",
       "      <td>...</td>\n",
       "      <td>...</td>\n",
       "      <td>...</td>\n",
       "      <td>...</td>\n",
       "      <td>...</td>\n",
       "      <td>...</td>\n",
       "      <td>...</td>\n",
       "      <td>...</td>\n",
       "      <td>...</td>\n",
       "    </tr>\n",
       "    <tr>\n",
       "      <th>2754694</th>\n",
       "      <td>46</td>\n",
       "      <td>318</td>\n",
       "      <td>14294</td>\n",
       "      <td>2023-12-04</td>\n",
       "      <td>NaN</td>\n",
       "      <td>0.0</td>\n",
       "      <td>2.0</td>\n",
       "      <td>2.0</td>\n",
       "      <td>4.0</td>\n",
       "      <td>3.0</td>\n",
       "      <td>...</td>\n",
       "      <td>NaN</td>\n",
       "      <td>45.04</td>\n",
       "      <td>NaN</td>\n",
       "      <td>NaN</td>\n",
       "      <td>2.692308</td>\n",
       "      <td>1.797434</td>\n",
       "      <td>2.30</td>\n",
       "      <td>1.750188</td>\n",
       "      <td>3.566667</td>\n",
       "      <td>2.674056</td>\n",
       "    </tr>\n",
       "    <tr>\n",
       "      <th>2754695</th>\n",
       "      <td>46</td>\n",
       "      <td>318</td>\n",
       "      <td>14294</td>\n",
       "      <td>2023-12-11</td>\n",
       "      <td>46.990000</td>\n",
       "      <td>1.0</td>\n",
       "      <td>0.0</td>\n",
       "      <td>2.0</td>\n",
       "      <td>2.0</td>\n",
       "      <td>4.0</td>\n",
       "      <td>...</td>\n",
       "      <td>NaN</td>\n",
       "      <td>46.99</td>\n",
       "      <td>NaN</td>\n",
       "      <td>NaN</td>\n",
       "      <td>2.384615</td>\n",
       "      <td>1.894662</td>\n",
       "      <td>2.20</td>\n",
       "      <td>1.823819</td>\n",
       "      <td>3.366667</td>\n",
       "      <td>2.709922</td>\n",
       "    </tr>\n",
       "    <tr>\n",
       "      <th>2754696</th>\n",
       "      <td>46</td>\n",
       "      <td>318</td>\n",
       "      <td>14294</td>\n",
       "      <td>2023-12-18</td>\n",
       "      <td>46.990000</td>\n",
       "      <td>1.0</td>\n",
       "      <td>1.0</td>\n",
       "      <td>0.0</td>\n",
       "      <td>2.0</td>\n",
       "      <td>2.0</td>\n",
       "      <td>...</td>\n",
       "      <td>NaN</td>\n",
       "      <td>34.09</td>\n",
       "      <td>NaN</td>\n",
       "      <td>NaN</td>\n",
       "      <td>2.230769</td>\n",
       "      <td>1.921538</td>\n",
       "      <td>2.20</td>\n",
       "      <td>1.823819</td>\n",
       "      <td>3.100000</td>\n",
       "      <td>2.523681</td>\n",
       "    </tr>\n",
       "    <tr>\n",
       "      <th>2754697</th>\n",
       "      <td>46</td>\n",
       "      <td>318</td>\n",
       "      <td>14294</td>\n",
       "      <td>2023-12-25</td>\n",
       "      <td>39.190000</td>\n",
       "      <td>1.0</td>\n",
       "      <td>1.0</td>\n",
       "      <td>1.0</td>\n",
       "      <td>0.0</td>\n",
       "      <td>2.0</td>\n",
       "      <td>...</td>\n",
       "      <td>NaN</td>\n",
       "      <td>NaN</td>\n",
       "      <td>NaN</td>\n",
       "      <td>NaN</td>\n",
       "      <td>1.923077</td>\n",
       "      <td>1.754116</td>\n",
       "      <td>2.10</td>\n",
       "      <td>1.832456</td>\n",
       "      <td>2.766667</td>\n",
       "      <td>2.062528</td>\n",
       "    </tr>\n",
       "    <tr>\n",
       "      <th>2754698</th>\n",
       "      <td>46</td>\n",
       "      <td>318</td>\n",
       "      <td>14294</td>\n",
       "      <td>2024-01-01</td>\n",
       "      <td>45.423336</td>\n",
       "      <td>3.0</td>\n",
       "      <td>1.0</td>\n",
       "      <td>1.0</td>\n",
       "      <td>1.0</td>\n",
       "      <td>0.0</td>\n",
       "      <td>...</td>\n",
       "      <td>NaN</td>\n",
       "      <td>NaN</td>\n",
       "      <td>NaN</td>\n",
       "      <td>NaN</td>\n",
       "      <td>2.000000</td>\n",
       "      <td>1.683251</td>\n",
       "      <td>1.95</td>\n",
       "      <td>1.791060</td>\n",
       "      <td>2.600000</td>\n",
       "      <td>1.993092</td>\n",
       "    </tr>\n",
       "  </tbody>\n",
       "</table>\n",
       "<p>2754699 rows × 61 columns</p>\n",
       "</div>"
      ],
      "text/plain": [
       "        Client Warehouse Product          ds      Price    y  sales_lag_1  \\\n",
       "0            0         1     367  2020-07-06  10.900001  7.0          NaN   \n",
       "1            0         1     367  2020-07-13  10.900001  7.0          7.0   \n",
       "2            0         1     367  2020-07-20  10.900001  7.0          7.0   \n",
       "3            0         1     367  2020-07-27  15.582857  7.0          7.0   \n",
       "4            0         1     367  2020-08-03  27.289999  7.0          7.0   \n",
       "...        ...       ...     ...         ...        ...  ...          ...   \n",
       "2754694     46       318   14294  2023-12-04        NaN  0.0          2.0   \n",
       "2754695     46       318   14294  2023-12-11  46.990000  1.0          0.0   \n",
       "2754696     46       318   14294  2023-12-18  46.990000  1.0          1.0   \n",
       "2754697     46       318   14294  2023-12-25  39.190000  1.0          1.0   \n",
       "2754698     46       318   14294  2024-01-01  45.423336  3.0          1.0   \n",
       "\n",
       "         sales_lag_2  sales_lag_3  sales_lag_4  ...  price_rolling_std_12  \\\n",
       "0                NaN          NaN          NaN  ...                   NaN   \n",
       "1                NaN          NaN          NaN  ...                   NaN   \n",
       "2                7.0          NaN          NaN  ...                   NaN   \n",
       "3                7.0          7.0          NaN  ...                   NaN   \n",
       "4                7.0          7.0          7.0  ...                   NaN   \n",
       "...              ...          ...          ...  ...                   ...   \n",
       "2754694          2.0          4.0          3.0  ...                   NaN   \n",
       "2754695          2.0          2.0          4.0  ...                   NaN   \n",
       "2754696          0.0          2.0          2.0  ...                   NaN   \n",
       "2754697          1.0          0.0          2.0  ...                   NaN   \n",
       "2754698          1.0          1.0          0.0  ...                   NaN   \n",
       "\n",
       "         price_lag_13  price_rolling_mean_13  price_rolling_std_13  \\\n",
       "0                 NaN                    NaN                   NaN   \n",
       "1                 NaN                    NaN                   NaN   \n",
       "2                 NaN                    NaN                   NaN   \n",
       "3                 NaN                    NaN                   NaN   \n",
       "4                 NaN                    NaN                   NaN   \n",
       "...               ...                    ...                   ...   \n",
       "2754694         45.04                    NaN                   NaN   \n",
       "2754695         46.99                    NaN                   NaN   \n",
       "2754696         34.09                    NaN                   NaN   \n",
       "2754697           NaN                    NaN                   NaN   \n",
       "2754698           NaN                    NaN                   NaN   \n",
       "\n",
       "         sales_rolling_mean_13  sales_rolling_std_13  sales_rolling_mean_20  \\\n",
       "0                          NaN                   NaN                    NaN   \n",
       "1                          NaN                   NaN                    NaN   \n",
       "2                          NaN                   NaN                    NaN   \n",
       "3                          NaN                   NaN                    NaN   \n",
       "4                          NaN                   NaN                    NaN   \n",
       "...                        ...                   ...                    ...   \n",
       "2754694               2.692308              1.797434                   2.30   \n",
       "2754695               2.384615              1.894662                   2.20   \n",
       "2754696               2.230769              1.921538                   2.20   \n",
       "2754697               1.923077              1.754116                   2.10   \n",
       "2754698               2.000000              1.683251                   1.95   \n",
       "\n",
       "         sales_rolling_std_20  sales_rolling_mean_30  sales_rolling_std_30  \n",
       "0                         NaN                    NaN                   NaN  \n",
       "1                         NaN                    NaN                   NaN  \n",
       "2                         NaN                    NaN                   NaN  \n",
       "3                         NaN                    NaN                   NaN  \n",
       "4                         NaN                    NaN                   NaN  \n",
       "...                       ...                    ...                   ...  \n",
       "2754694              1.750188               3.566667              2.674056  \n",
       "2754695              1.823819               3.366667              2.709922  \n",
       "2754696              1.823819               3.100000              2.523681  \n",
       "2754697              1.832456               2.766667              2.062528  \n",
       "2754698              1.791060               2.600000              1.993092  \n",
       "\n",
       "[2754699 rows x 61 columns]"
      ]
     },
     "execution_count": 25,
     "metadata": {},
     "output_type": "execute_result"
    }
   ],
   "source": [
    "data"
   ]
  },
  {
   "cell_type": "code",
   "execution_count": 26,
   "metadata": {},
   "outputs": [
    {
     "data": {
      "text/plain": [
       "Index(['Client', 'Warehouse', 'Product', 'ds', 'Price', 'y'], dtype='object')"
      ]
     },
     "execution_count": 26,
     "metadata": {},
     "output_type": "execute_result"
    }
   ],
   "source": [
    "test_df.columns"
   ]
  },
  {
   "cell_type": "code",
   "execution_count": null,
   "metadata": {},
   "outputs": [],
   "source": []
  },
  {
   "cell_type": "code",
   "execution_count": 27,
   "metadata": {},
   "outputs": [],
   "source": [
    "# Remove rows that exist in df_subset\n",
    "# df_result = df_main.merge(df_subset, on=['ID', 'Value'], how='left', indicator=True).query('_merge == \"left_only\"').drop(columns=['_merge'])\n",
    "\n",
    "final_train_df = data.merge(test_df[['Client', 'Warehouse', 'Product', 'ds']], on = ['Client', 'Warehouse', 'Product', 'ds'], how = 'left', indicator=True).query('_merge == \"left_only\"').drop(columns=['_merge'])\n",
    "final_test_df = data.merge(train_df[['Client', 'Warehouse', 'Product', 'ds']], on = ['Client', 'Warehouse', 'Product', 'ds'], how = 'left', indicator=True).query('_merge == \"left_only\"').drop(columns=['_merge'])"
   ]
  },
  {
   "cell_type": "code",
   "execution_count": 28,
   "metadata": {},
   "outputs": [
    {
     "name": "stdout",
     "output_type": "stream",
     "text": [
      "_merge\n",
      "both          195689\n",
      "left_only          0\n",
      "right_only         0\n",
      "Name: count, dtype: int64\n",
      "_merge\n",
      "both          2559010\n",
      "left_only           0\n",
      "right_only          0\n",
      "Name: count, dtype: int64\n"
     ]
    }
   ],
   "source": [
    "x = final_test_df.merge(test_df, on = ['Client', 'Warehouse', 'Product', 'ds'], how = 'outer', indicator=True)\n",
    "print(x['_merge'].value_counts())\n",
    "x = final_train_df.merge(train_df, on = ['Client', 'Warehouse', 'Product', 'ds'], how = 'outer', indicator=True)\n",
    "print(x['_merge'].value_counts())"
   ]
  },
  {
   "cell_type": "code",
   "execution_count": 29,
   "metadata": {},
   "outputs": [],
   "source": [
    "# del(x, test_df, train_df, df, data)"
   ]
  },
  {
   "cell_type": "code",
   "execution_count": 30,
   "metadata": {},
   "outputs": [
    {
     "data": {
      "text/plain": [
       "8"
      ]
     },
     "execution_count": 30,
     "metadata": {},
     "output_type": "execute_result"
    }
   ],
   "source": [
    "gc.collect()"
   ]
  },
  {
   "cell_type": "code",
   "execution_count": 31,
   "metadata": {},
   "outputs": [],
   "source": [
    "final_train_df.reset_index(drop=True, inplace=True)\n",
    "final_test_df.reset_index(drop=True, inplace=True)"
   ]
  },
  {
   "cell_type": "code",
   "execution_count": 32,
   "metadata": {},
   "outputs": [],
   "source": [
    "x_train= final_train_df.copy()\n",
    "x_train.drop(columns=['y'], inplace= True)\n",
    "y_train = final_train_df['y']\n",
    "\n",
    "x_test= final_test_df.copy()\n",
    "x_test.drop(columns=['y'], inplace= True)\n",
    "y_test = final_test_df['y']"
   ]
  },
  {
   "cell_type": "code",
   "execution_count": 33,
   "metadata": {},
   "outputs": [
    {
     "name": "stdout",
     "output_type": "stream",
     "text": [
      "Train data shape (2559010, 60) (2559010,)\n",
      "Test data shape (195689, 60) (195689,)\n"
     ]
    }
   ],
   "source": [
    "print(\"Train data shape\", x_train.shape, y_train.shape)\n",
    "print(\"Test data shape\", x_test.shape, y_test.shape)"
   ]
  },
  {
   "cell_type": "code",
   "execution_count": 34,
   "metadata": {},
   "outputs": [],
   "source": [
    "import lightgbm as lgb"
   ]
  },
  {
   "cell_type": "code",
   "execution_count": 35,
   "metadata": {},
   "outputs": [],
   "source": [
    "# !pip install lightgbm"
   ]
  },
  {
   "cell_type": "code",
   "execution_count": 36,
   "metadata": {},
   "outputs": [],
   "source": [
    "from sklearn.model_selection import  TimeSeriesSplit"
   ]
  },
  {
   "cell_type": "code",
   "execution_count": 37,
   "metadata": {},
   "outputs": [],
   "source": [
    "n_fold = 3 #3 for timely purpose of the kernel\n",
    "folds = TimeSeriesSplit(n_splits=n_fold)"
   ]
  },
  {
   "cell_type": "code",
   "execution_count": 38,
   "metadata": {},
   "outputs": [],
   "source": [
    "#TODO in fine tuning\n",
    "params = {'num_leaves': 555,\n",
    "          'min_child_weight': 0.034,\n",
    "          'feature_fraction': 0.379,\n",
    "          'bagging_fraction': 0.418,\n",
    "          'min_data_in_leaf': 106,\n",
    "          'objective': 'regression',\n",
    "          'max_depth': -1,\n",
    "          'learning_rate': 0.005,\n",
    "          \"boosting_type\": \"gbdt\",\n",
    "          \"bagging_seed\": 11,\n",
    "          \"metric\": 'rmse',\n",
    "          \"verbosity\": -1,\n",
    "          'reg_alpha': 0.3899,\n",
    "          'reg_lambda': 0.648,\n",
    "          'random_state': 222,\n",
    "         }"
   ]
  },
  {
   "cell_type": "code",
   "execution_count": 40,
   "metadata": {},
   "outputs": [
    {
     "data": {
      "text/plain": [
       "Index(['Client', 'Warehouse', 'Product', 'ds', 'Price', 'sales_lag_1',\n",
       "       'sales_lag_2', 'sales_lag_3', 'sales_lag_4', 'sales_lag_5',\n",
       "       'sales_lag_6', 'sales_lag_7', 'sales_lag_8', 'sales_lag_9',\n",
       "       'sales_lag_10', 'price_lag_1', 'price_rolling_mean_1',\n",
       "       'price_rolling_std_1', 'price_lag_2', 'price_rolling_mean_2',\n",
       "       'price_rolling_std_2', 'price_lag_3', 'price_rolling_mean_3',\n",
       "       'price_rolling_std_3', 'price_lag_4', 'price_rolling_mean_4',\n",
       "       'price_rolling_std_4', 'price_lag_5', 'price_rolling_mean_5',\n",
       "       'price_rolling_std_5', 'price_lag_6', 'price_rolling_mean_6',\n",
       "       'price_rolling_std_6', 'price_lag_7', 'price_rolling_mean_7',\n",
       "       'price_rolling_std_7', 'price_lag_8', 'price_rolling_mean_8',\n",
       "       'price_rolling_std_8', 'price_lag_9', 'price_rolling_mean_9',\n",
       "       'price_rolling_std_9', 'price_lag_10', 'price_rolling_mean_10',\n",
       "       'price_rolling_std_10', 'price_lag_11', 'price_rolling_mean_11',\n",
       "       'price_rolling_std_11', 'price_lag_12', 'price_rolling_mean_12',\n",
       "       'price_rolling_std_12', 'price_lag_13', 'price_rolling_mean_13',\n",
       "       'price_rolling_std_13', 'sales_rolling_mean_13', 'sales_rolling_std_13',\n",
       "       'sales_rolling_mean_20', 'sales_rolling_std_20',\n",
       "       'sales_rolling_mean_30', 'sales_rolling_std_30'],\n",
       "      dtype='object')"
      ]
     },
     "execution_count": 40,
     "metadata": {},
     "output_type": "execute_result"
    }
   ],
   "source": [
    "x_train.columns"
   ]
  },
  {
   "cell_type": "code",
   "execution_count": 42,
   "metadata": {},
   "outputs": [],
   "source": [
    "from sklearn import metrics"
   ]
  },
  {
   "cell_type": "code",
   "execution_count": 63,
   "metadata": {},
   "outputs": [
    {
     "data": {
      "text/plain": [
       "0                                                       1.0\n",
       "1                                                       1.0\n",
       "2                                                       1.0\n",
       "3                                                       2.0\n",
       "4                                                       1.0\n",
       "                                ...                        \n",
       "195685                                                  1.0\n",
       "195686                                                  1.0\n",
       "195687                                                  1.0\n",
       "195688                                                  3.0\n",
       "sales     [5.1491920822820525, 4.447575877340612, 3.1872...\n",
       "Name: y, Length: 195690, dtype: object"
      ]
     },
     "execution_count": 63,
     "metadata": {},
     "output_type": "execute_result"
    }
   ],
   "source": [
    "y_test"
   ]
  },
  {
   "cell_type": "code",
   "execution_count": 43,
   "metadata": {},
   "outputs": [
    {
     "data": {
      "text/plain": [
       "0         1.0\n",
       "1         1.0\n",
       "2         1.0\n",
       "3         2.0\n",
       "4         1.0\n",
       "         ... \n",
       "195684    0.0\n",
       "195685    1.0\n",
       "195686    1.0\n",
       "195687    1.0\n",
       "195688    3.0\n",
       "Name: y, Length: 195689, dtype: float64"
      ]
     },
     "execution_count": 43,
     "metadata": {},
     "output_type": "execute_result"
    }
   ],
   "source": [
    "y_test"
   ]
  },
  {
   "cell_type": "code",
   "execution_count": 52,
   "metadata": {},
   "outputs": [
    {
     "data": {
      "text/plain": [
       "Index(['Client', 'Warehouse', 'Product', 'ds', 'Price', 'sales_lag_1',\n",
       "       'sales_lag_2', 'sales_lag_3', 'sales_lag_4', 'sales_lag_5',\n",
       "       'sales_lag_6', 'sales_lag_7', 'sales_lag_8', 'sales_lag_9',\n",
       "       'sales_lag_10', 'price_lag_1', 'price_rolling_mean_1',\n",
       "       'price_rolling_std_1', 'price_lag_2', 'price_rolling_mean_2',\n",
       "       'price_rolling_std_2', 'price_lag_3', 'price_rolling_mean_3',\n",
       "       'price_rolling_std_3', 'price_lag_4', 'price_rolling_mean_4',\n",
       "       'price_rolling_std_4', 'price_lag_5', 'price_rolling_mean_5',\n",
       "       'price_rolling_std_5', 'price_lag_6', 'price_rolling_mean_6',\n",
       "       'price_rolling_std_6', 'price_lag_7', 'price_rolling_mean_7',\n",
       "       'price_rolling_std_7', 'price_lag_8', 'price_rolling_mean_8',\n",
       "       'price_rolling_std_8', 'price_lag_9', 'price_rolling_mean_9',\n",
       "       'price_rolling_std_9', 'price_lag_10', 'price_rolling_mean_10',\n",
       "       'price_rolling_std_10', 'price_lag_11', 'price_rolling_mean_11',\n",
       "       'price_rolling_std_11', 'price_lag_12', 'price_rolling_mean_12',\n",
       "       'price_rolling_std_12', 'price_lag_13', 'price_rolling_mean_13',\n",
       "       'price_rolling_std_13', 'sales_rolling_mean_13', 'sales_rolling_std_13',\n",
       "       'sales_rolling_mean_20', 'sales_rolling_std_20',\n",
       "       'sales_rolling_mean_30', 'sales_rolling_std_30'],\n",
       "      dtype='object')"
      ]
     },
     "execution_count": 52,
     "metadata": {},
     "output_type": "execute_result"
    }
   ],
   "source": [
    "x_train.columns"
   ]
  },
  {
   "cell_type": "code",
   "execution_count": 55,
   "metadata": {},
   "outputs": [],
   "source": [
    "columns = list(x_train.columns)\n",
    "columns.remove('ds')"
   ]
  },
  {
   "cell_type": "code",
   "execution_count": 57,
   "metadata": {},
   "outputs": [
    {
     "name": "stdout",
     "output_type": "stream",
     "text": [
      "Fold: 1\n",
      "val rmse score is 16.126013375603595\n",
      "Fold: 2\n",
      "val rmse score is 36.32719335286525\n",
      "Fold: 3\n",
      "val rmse score is 86.67072337553458\n",
      "mean rmse score over folds is 46.37464336800114\n"
     ]
    },
    {
     "name": "stderr",
     "output_type": "stream",
     "text": [
      "C:\\Users\\rucha\\AppData\\Local\\Temp\\ipykernel_28276\\2967467903.py:26: SettingWithCopyWarning: \n",
      "A value is trying to be set on a copy of a slice from a DataFrame\n",
      "\n",
      "See the caveats in the documentation: https://pandas.pydata.org/pandas-docs/stable/user_guide/indexing.html#returning-a-view-versus-a-copy\n",
      "  y_test['sales'] = y_preds\n"
     ]
    }
   ],
   "source": [
    "columns = list(x_train.columns)\n",
    "columns.remove('ds')\n",
    "splits = folds.split(x_train, y_train)\n",
    "y_preds = np.zeros(x_test.shape[0])\n",
    "y_oof = np.zeros(x_train.shape[0])\n",
    "feature_importances = pd.DataFrame()\n",
    "feature_importances['feature'] = columns\n",
    "mean_score = []\n",
    "for fold_n, (train_index, valid_index) in enumerate(splits):\n",
    "    print('Fold:',fold_n+1)\n",
    "    X_train, X_valid = x_train[columns].iloc[train_index], x_train[columns].iloc[valid_index]\n",
    "    Y_train, Y_valid = y_train.iloc[train_index], y_train.iloc[valid_index]\n",
    "    dtrain = lgb.Dataset(X_train, label=Y_train)\n",
    "    dvalid = lgb.Dataset(X_valid, label=Y_valid)\n",
    "    clf = lgb.train(params, dtrain, 2500, valid_sets = [dtrain, dvalid])\n",
    "    feature_importances[f'fold_{fold_n + 1}'] = clf.feature_importance()\n",
    "    y_pred_valid = clf.predict(X_valid,num_iteration=clf.best_iteration)\n",
    "    y_oof[valid_index] = y_pred_valid\n",
    "    val_score = np.sqrt(metrics.mean_squared_error(y_pred_valid, Y_valid))\n",
    "    print(f'val rmse score is {val_score}')\n",
    "    mean_score.append(val_score)\n",
    "    y_preds += clf.predict(x_test[columns], num_iteration=clf.best_iteration)/n_fold\n",
    "    del X_train, X_valid, Y_train, Y_valid\n",
    "    gc.collect()\n",
    "print('mean rmse score over folds is',np.mean(mean_score))\n",
    "y_test['sales'] = y_preds"
   ]
  },
  {
   "cell_type": "code",
   "execution_count": 62,
   "metadata": {},
   "outputs": [
    {
     "data": {
      "text/plain": [
       "(195689, 60)"
      ]
     },
     "execution_count": 62,
     "metadata": {},
     "output_type": "execute_result"
    }
   ],
   "source": [
    "x_test.shape"
   ]
  },
  {
   "cell_type": "code",
   "execution_count": 60,
   "metadata": {},
   "outputs": [
    {
     "data": {
      "text/plain": [
       "(195689,)"
      ]
     },
     "execution_count": 60,
     "metadata": {},
     "output_type": "execute_result"
    }
   ],
   "source": [
    "y_preds.shape"
   ]
  },
  {
   "cell_type": "code",
   "execution_count": 69,
   "metadata": {},
   "outputs": [],
   "source": [
    "y_test = y_test[:-1]"
   ]
  },
  {
   "cell_type": "code",
   "execution_count": 72,
   "metadata": {},
   "outputs": [],
   "source": [
    "test_df['sales_pred'] = y_preds"
   ]
  },
  {
   "cell_type": "code",
   "execution_count": 87,
   "metadata": {},
   "outputs": [
    {
     "data": {
      "text/plain": [
       "[<matplotlib.lines.Line2D at 0x21b36c7da90>]"
      ]
     },
     "execution_count": 87,
     "metadata": {},
     "output_type": "execute_result"
    },
    {
     "data": {
      "image/png": "[encoded data removed]",
      "text/plain": [
       "<Figure size 640x480 with 1 Axes>"
      ]
     },
     "metadata": {},
     "output_type": "display_data"
    }
   ],
   "source": [
    "test_df\n",
    "\n",
    "import matplotlib.pyplot as plt\n",
    "\n",
    "plt.plot(test_df['y'])\n",
    "plt.plot(test_df['sales_pred'])"
   ]
  },
  {
   "cell_type": "code",
   "execution_count": 88,
   "metadata": {},
   "outputs": [
    {
     "data": {
      "text/plain": [
       "15236.0"
      ]
     },
     "execution_count": 88,
     "metadata": {},
     "output_type": "execute_result"
    }
   ],
   "source": [
    "test_df['y'].max()"
   ]
  },
  {
   "cell_type": "code",
   "execution_count": 89,
   "metadata": {},
   "outputs": [
    {
     "data": {
      "text/plain": [
       "2689.621481483054"
      ]
     },
     "execution_count": 89,
     "metadata": {},
     "output_type": "execute_result"
    }
   ],
   "source": [
    "test_df['sales_pred'].max()"
   ]
  },
  {
   "cell_type": "code",
   "execution_count": null,
   "metadata": {},
   "outputs": [],
   "source": []
  },
  {
   "cell_type": "code",
   "execution_count": 90,
   "metadata": {},
   "outputs": [],
   "source": [
    "\n",
    "# s1_naive = series[-29:-1].to_numpy()\n",
    "# s7_naive = series[-35:-7].to_numpy()\n",
    "# s30_naive = series[-56:-28].to_numpy()\n",
    "# s365_naive = series[-364:-336].to_numpy()"
   ]
  },
  {
   "cell_type": "code",
   "execution_count": 96,
   "metadata": {},
   "outputs": [
    {
     "name": "stderr",
     "output_type": "stream",
     "text": [
      "C:\\Users\\rucha\\AppData\\Local\\Temp\\ipykernel_28276\\1334259768.py:4: FutureWarning: The default of observed=False is deprecated and will be changed to True in a future version of pandas. Pass observed=False to retain current behavior or observed=True to adopt the future default and silence this warning.\n",
      "  df_naive['y_pred_naive_13'] = df_naive.groupby(id_cols)['y'].transform(lambda x: x.shift(13))\n",
      "C:\\Users\\rucha\\AppData\\Local\\Temp\\ipykernel_28276\\1334259768.py:5: FutureWarning: The default of observed=False is deprecated and will be changed to True in a future version of pandas. Pass observed=False to retain current behavior or observed=True to adopt the future default and silence this warning.\n",
      "  df_naive['y_pred_naive_26'] = df_naive.groupby(id_cols)['y'].transform(lambda x: x.shift(26))\n"
     ]
    }
   ],
   "source": [
    "id_cols = ['Client', 'Warehouse', 'Product']\n",
    "df_naive = df.copy()\n",
    "\n",
    "df_naive['y_pred_naive_13'] = df_naive.groupby(id_cols)['y'].transform(lambda x: x.shift(13))\n",
    "df_naive['y_pred_naive_26'] = df_naive.groupby(id_cols)['y'].transform(lambda x: x.shift(26))\n"
   ]
  },
  {
   "cell_type": "code",
   "execution_count": 98,
   "metadata": {},
   "outputs": [],
   "source": [
    "df_naive_test = df_naive.merge(\n",
    "    test_df[['Client', 'Warehouse', 'Product', 'ds']], \n",
    "    on = ['Client', 'Warehouse', 'Product', 'ds'], how = 'left', indicator=True).query('_merge == \"left_only\"').drop(columns=['_merge'])"
   ]
  },
  {
   "cell_type": "code",
   "execution_count": 84,
   "metadata": {},
   "outputs": [],
   "source": [
    "# Custom error metric \n",
    "def custom_error(true, pred):\n",
    "        \n",
    "    abs_err = np.nansum(np.abs(pred - true))\n",
    "    err = np.nansum((pred - true))\n",
    "    score = abs_err + abs(err)\n",
    "    score /= true.sum().sum()\n",
    "    return score"
   ]
  },
  {
   "cell_type": "code",
   "execution_count": 86,
   "metadata": {},
   "outputs": [
    {
     "data": {
      "text/plain": [
       "0.41965320407243234"
      ]
     },
     "execution_count": 86,
     "metadata": {},
     "output_type": "execute_result"
    }
   ],
   "source": [
    "custom_error(test_df['y'], y_preds)"
   ]
  },
  {
   "cell_type": "code",
   "execution_count": 100,
   "metadata": {},
   "outputs": [
    {
     "data": {
      "text/plain": [
       "0.6607510586761033"
      ]
     },
     "execution_count": 100,
     "metadata": {},
     "output_type": "execute_result"
    }
   ],
   "source": [
    "custom_error(df_naive['y'], df_naive['y_pred_naive_13'])"
   ]
  },
  {
   "cell_type": "code",
   "execution_count": 101,
   "metadata": {},
   "outputs": [
    {
     "data": {
      "text/plain": [
       "0.7540295059531684"
      ]
     },
     "execution_count": 101,
     "metadata": {},
     "output_type": "execute_result"
    }
   ],
   "source": [
    "custom_error(df_naive['y'], df_naive['y_pred_naive_26'])"
   ]
  },
  {
   "cell_type": "code",
   "execution_count": 70,
   "metadata": {},
   "outputs": [
    {
     "data": {
      "text/plain": [
       "0         1.0\n",
       "1         1.0\n",
       "2         1.0\n",
       "3         2.0\n",
       "4         1.0\n",
       "         ... \n",
       "195684    0.0\n",
       "195685    1.0\n",
       "195686    1.0\n",
       "195687    1.0\n",
       "195688    3.0\n",
       "Name: y, Length: 195689, dtype: object"
      ]
     },
     "execution_count": 70,
     "metadata": {},
     "output_type": "execute_result"
    }
   ],
   "source": [
    "y_test"
   ]
  },
  {
   "cell_type": "markdown",
   "metadata": {},
   "source": [
    "#### ways of prediction\n",
    "1. "
   ]
  },
  {
   "cell_type": "markdown",
   "metadata": {},
   "source": []
  }
 ],
 "metadata": {
  "kernelspec": {
   "display_name": "base",
   "language": "python",
   "name": "python3"
  },
  "language_info": {
   "codemirror_mode": {
    "name": "ipython",
    "version": 3
   },
   "file_extension": ".py",
   "mimetype": "text/x-python",
   "name": "python",
   "nbconvert_exporter": "python",
   "pygments_lexer": "ipython3",
   "version": "3.11.4"
  }
 },
 "nbformat": 4,
 "nbformat_minor": 2
}
